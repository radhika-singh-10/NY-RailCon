{
 "cells": [
  {
   "cell_type": "code",
   "execution_count": 1,
   "id": "814a8d4c-8c5e-4ed4-bec7-0b00a68c3d3c",
   "metadata": {},
   "outputs": [
    {
     "name": "stdout",
     "output_type": "stream",
     "text": [
      "Requirement already satisfied: sqlalchemy in c:\\users\\lenovo\\anaconda3\\lib\\site-packages (2.0.28)\n",
      "Requirement already satisfied: typing-extensions>=4.6.0 in c:\\users\\lenovo\\anaconda3\\lib\\site-packages (from sqlalchemy) (4.7.1)\n",
      "Requirement already satisfied: greenlet!=0.4.17 in c:\\users\\lenovo\\anaconda3\\lib\\site-packages (from sqlalchemy) (3.0.3)\n"
     ]
    }
   ],
   "source": [
    "!pip install sqlalchemy"
   ]
  },
  {
   "cell_type": "code",
   "execution_count": 7,
   "id": "bf22824a-21f8-4ef9-969c-40d4b7a7d18d",
   "metadata": {},
   "outputs": [
    {
     "name": "stdout",
     "output_type": "stream",
     "text": [
      "Requirement already satisfied: nbconvert in c:\\users\\lenovo\\anaconda3\\lib\\site-packages (7.10.0)\n",
      "Requirement already satisfied: beautifulsoup4 in c:\\users\\lenovo\\anaconda3\\lib\\site-packages (from nbconvert) (4.12.2)\n",
      "Requirement already satisfied: bleach!=5.0.0 in c:\\users\\lenovo\\anaconda3\\lib\\site-packages (from nbconvert) (4.1.0)\n",
      "Requirement already satisfied: defusedxml in c:\\users\\lenovo\\anaconda3\\lib\\site-packages (from nbconvert) (0.7.1)\n",
      "Requirement already satisfied: jinja2>=3.0 in c:\\users\\lenovo\\anaconda3\\lib\\site-packages (from nbconvert) (3.1.2)\n",
      "Requirement already satisfied: jupyter-core>=4.7 in c:\\users\\lenovo\\appdata\\roaming\\python\\python311\\site-packages (from nbconvert) (5.3.2)\n",
      "Requirement already satisfied: jupyterlab-pygments in c:\\users\\lenovo\\anaconda3\\lib\\site-packages (from nbconvert) (0.1.2)\n",
      "Requirement already satisfied: markupsafe>=2.0 in c:\\users\\lenovo\\anaconda3\\lib\\site-packages (from nbconvert) (2.1.1)\n",
      "Requirement already satisfied: mistune<4,>=2.0.3 in c:\\users\\lenovo\\anaconda3\\lib\\site-packages (from nbconvert) (2.0.4)\n",
      "Requirement already satisfied: nbclient>=0.5.0 in c:\\users\\lenovo\\anaconda3\\lib\\site-packages (from nbconvert) (0.8.0)\n",
      "Requirement already satisfied: nbformat>=5.7 in c:\\users\\lenovo\\anaconda3\\lib\\site-packages (from nbconvert) (5.9.2)\n",
      "Requirement already satisfied: packaging in c:\\users\\lenovo\\appdata\\roaming\\python\\python311\\site-packages (from nbconvert) (23.2)\n",
      "Requirement already satisfied: pandocfilters>=1.4.1 in c:\\users\\lenovo\\anaconda3\\lib\\site-packages (from nbconvert) (1.5.0)\n",
      "Requirement already satisfied: pygments>=2.4.1 in c:\\users\\lenovo\\appdata\\roaming\\python\\python311\\site-packages (from nbconvert) (2.16.1)\n",
      "Requirement already satisfied: tinycss2 in c:\\users\\lenovo\\anaconda3\\lib\\site-packages (from nbconvert) (1.2.1)\n",
      "Requirement already satisfied: traitlets>=5.1 in c:\\users\\lenovo\\appdata\\roaming\\python\\python311\\site-packages (from nbconvert) (5.11.2)\n",
      "Requirement already satisfied: six>=1.9.0 in c:\\users\\lenovo\\appdata\\roaming\\python\\python311\\site-packages (from bleach!=5.0.0->nbconvert) (1.16.0)\n",
      "Requirement already satisfied: webencodings in c:\\users\\lenovo\\anaconda3\\lib\\site-packages (from bleach!=5.0.0->nbconvert) (0.5.1)\n",
      "Requirement already satisfied: platformdirs>=2.5 in c:\\users\\lenovo\\appdata\\roaming\\python\\python311\\site-packages (from jupyter-core>=4.7->nbconvert) (3.11.0)\n",
      "Requirement already satisfied: pywin32>=300 in c:\\users\\lenovo\\appdata\\roaming\\python\\python311\\site-packages (from jupyter-core>=4.7->nbconvert) (306)\n",
      "Requirement already satisfied: jupyter-client>=6.1.12 in c:\\users\\lenovo\\appdata\\roaming\\python\\python311\\site-packages (from nbclient>=0.5.0->nbconvert) (8.3.1)\n",
      "Requirement already satisfied: fastjsonschema in c:\\users\\lenovo\\anaconda3\\lib\\site-packages (from nbformat>=5.7->nbconvert) (2.16.2)\n",
      "Requirement already satisfied: jsonschema>=2.6 in c:\\users\\lenovo\\anaconda3\\lib\\site-packages (from nbformat>=5.7->nbconvert) (4.19.2)\n",
      "Requirement already satisfied: soupsieve>1.2 in c:\\users\\lenovo\\anaconda3\\lib\\site-packages (from beautifulsoup4->nbconvert) (2.5)\n",
      "Requirement already satisfied: attrs>=22.2.0 in c:\\users\\lenovo\\anaconda3\\lib\\site-packages (from jsonschema>=2.6->nbformat>=5.7->nbconvert) (23.1.0)\n",
      "Requirement already satisfied: jsonschema-specifications>=2023.03.6 in c:\\users\\lenovo\\anaconda3\\lib\\site-packages (from jsonschema>=2.6->nbformat>=5.7->nbconvert) (2023.7.1)\n",
      "Requirement already satisfied: referencing>=0.28.4 in c:\\users\\lenovo\\anaconda3\\lib\\site-packages (from jsonschema>=2.6->nbformat>=5.7->nbconvert) (0.30.2)\n",
      "Requirement already satisfied: rpds-py>=0.7.1 in c:\\users\\lenovo\\anaconda3\\lib\\site-packages (from jsonschema>=2.6->nbformat>=5.7->nbconvert) (0.10.6)\n",
      "Requirement already satisfied: python-dateutil>=2.8.2 in c:\\users\\lenovo\\appdata\\roaming\\python\\python311\\site-packages (from jupyter-client>=6.1.12->nbclient>=0.5.0->nbconvert) (2.8.2)\n",
      "Requirement already satisfied: pyzmq>=23.0 in c:\\users\\lenovo\\appdata\\roaming\\python\\python311\\site-packages (from jupyter-client>=6.1.12->nbclient>=0.5.0->nbconvert) (25.1.1)\n",
      "Requirement already satisfied: tornado>=6.2 in c:\\users\\lenovo\\appdata\\roaming\\python\\python311\\site-packages (from jupyter-client>=6.1.12->nbclient>=0.5.0->nbconvert) (6.3.3)\n"
     ]
    }
   ],
   "source": [
    "!pip install nbconvert"
   ]
  },
  {
   "cell_type": "code",
   "execution_count": 2,
   "id": "09a92d3c-3a5f-4bc1-b47e-e19b301740c0",
   "metadata": {},
   "outputs": [],
   "source": [
    "import pandas as pd\n",
    "import numpy as np\n",
    "import psycopg2\n",
    "from sqlalchemy import create_engine,text\n",
    "from datetime import datetime"
   ]
  },
  {
   "cell_type": "code",
   "execution_count": 4,
   "id": "06459ec0-de07-4d14-a6c8-aaffef2f1dc9",
   "metadata": {},
   "outputs": [],
   "source": [
    "dbname = 'postgres'\n",
    "user = 'postgres'\n",
    "password = 'root'\n",
    "host = \"127.0.0.1\"\n",
    "port = \"5432\"\n",
    "connection_string = f\"postgresql://{user}:{password}@{host}/{dbname}\"\n",
    "engine = create_engine(connection_string)"
   ]
  },
  {
   "cell_type": "code",
   "execution_count": 6,
   "id": "8b1a2544-6f6b-424b-b86c-6d1e1c12b950",
   "metadata": {},
   "outputs": [
    {
     "name": "stderr",
     "output_type": "stream",
     "text": [
      "C:\\Users\\Lenovo\\AppData\\Local\\Temp\\ipykernel_10812\\3261363477.py:1: DtypeWarning: Columns (10,12,16,20,23,29,34,35,36,37,38,39,40,41,42,43,44,45,46,47,48,49,50,51,52,53,54,55,56,57,58,59,60,61,62,63,64,65,66,67,68,69,70,71,72,73,74,75,76,77,78,79,80,81,82,83,84,85,86,87,88,89,90,91,92,93,94,95,96,97,98,99,100,101,102,103,104,105,106,107,108,109,110,111,112,113,114,115,116,117,118,119,120,121,122,123,124,125,126,127,128,129,130,131,132,133,134,135,136,137,138,139,140,141,142,143,144,145,146,147,148,149,150,151,152,153,154,155,156,157,158,159,160,161,162,163,164,165,166,167,168,169,170,171,172,173,174,175,176,177,178,179,180,181,182,183,184,185,186,187,188,189,190,191,192,193,194,195,196,197,198,199,200,201,202,203,204,205,206,207,208,209,210,211,212,213,214,215,216,217,218,219,220,221,222,223,224,225,226,227,228,229,230,231,232,233,234,235,236,237,238,239,240,241,242,243,244,245,246,247,248,249,250,251,252,253,254,255,256,257,258,259,260,261,262,263,264,265,266,267,268,269,270,271,272,273,274,275,276,277,278,279,280,281,282,283,284,285,286,287,288,289,290,291,292,293,294,295,296,297,298,299,300,301,302,303,304,305,306,307,308,309,310,311,312,313,314,315,316,317,318,319,320,321,322,323,324,325,326,327,328,329,330,331,332,333,334,335,336,337,338,339,340,341,342,343,344,345,346,347,348,349,350,351,352,353,354,355,356,357,358,359,360,361,362,363,364,365,366,367,368,369,370,371,372,373,374,375,376,377,378,379,380,381,382,383,384,385,386,387,388,389,390,391,392,393,394,395,396,397,398,399,400,401,402,403,404,405,406,407,408,409,410,411,412,413,414,415,416,417,418,419,420,421,422,423,424,425,426,427,428,429,430,431,432,433,434,435,436,437,438,439,441,442,443,444,445,446,447,451,453,455,456,457,459,462,463,464,465,466,468) have mixed types. Specify dtype option on import or set low_memory=False.\n",
      "  df = pd.read_csv('new-york-state-railroad-dmql.csv')\n"
     ]
    },
    {
     "data": {
      "text/plain": [
       "0    4.0\n",
       "1    4.0\n",
       "2    1.0\n",
       "3    1.0\n",
       "4    1.0\n",
       "Name: CLASS, dtype: float64"
      ]
     },
     "execution_count": 6,
     "metadata": {},
     "output_type": "execute_result"
    }
   ],
   "source": [
    "df = pd.read_csv('new-york-state-railroad-dmql.csv')\n",
    "df['CLASS'].head()"
   ]
  },
  {
   "cell_type": "code",
   "execution_count": null,
   "id": "25816504-360a-4be9-b4d0-ec66f18bb739",
   "metadata": {},
   "outputs": [],
   "source": [
    "conn = psycopg2.connect(\n",
    "    dbname = 'postgres',\n",
    "    user = 'postgres',\n",
    "    password = 'root',\n",
    "    host = \"127.0.0.1\",\n",
    "    port = \"5432\")\n",
    "cur = conn.cursor()"
   ]
  },
  {
   "cell_type": "markdown",
   "id": "2ba0f86d-aa98-46ed-b089-3048925ea9ad",
   "metadata": {},
   "source": [
    "# Train table "
   ]
  },
  {
   "cell_type": "code",
   "execution_count": null,
   "id": "6a0c1d83-fb72-4ec0-9dec-9080ae354665",
   "metadata": {},
   "outputs": [],
   "source": [
    "create_table_query = \"\"\"\n",
    "CREATE TABLE IF NOT EXISTS Train (\n",
    "    train_id SERIAL PRIMARY KEY,\n",
    "    train_name VARCHAR(20) NOT NULL,\n",
    "    created_at TIMESTAMP NOT NULL\n",
    ");\n",
    "\n",
    "CREATE INDEX IF NOT EXISTS idx_train_train_name ON Train (train_name);\n",
    "\"\"\"\n",
    "\n",
    "cur.execute(create_table_query)\n",
    "conn.commit()\n"
   ]
  },
  {
   "cell_type": "code",
   "execution_count": null,
   "id": "e010df75-dcb2-4d12-a02a-55a6faf400a5",
   "metadata": {},
   "outputs": [],
   "source": [
    "cols_to_load = ['Train_NAME']\n",
    "df = pd.read_csv('new-york-state-railroad-dmql.csv', usecols=cols_to_load)\n",
    "df.columns = ['train_name']\n",
    "\n",
    "current_time = datetime.now()\n",
    "\n",
    "for index, row in df.iterrows():\n",
    "    cur.execute(\n",
    "        \"INSERT INTO Train (train_name, created_at) VALUES (%s, %s)\",\n",
    "        (row['train_name'], current_time)\n",
    "    )\n",
    "\n",
    "conn.commit()"
   ]
  },
  {
   "cell_type": "markdown",
   "id": "61a4ee68-23f4-4684-90a7-063d50814883",
   "metadata": {},
   "source": [
    "# Railway Road Table"
   ]
  },
  {
   "cell_type": "code",
   "execution_count": null,
   "id": "53b41f3c-d746-46d9-815e-3564ee0535b3",
   "metadata": {},
   "outputs": [],
   "source": [
    "create_railway_road_table = \"\"\"\n",
    "CREATE TABLE IF NOT EXISTS Railway_Road (\n",
    "    railway_road_type_id SERIAL PRIMARY KEY,\n",
    "    railway_road_type_name VARCHAR(100),\n",
    "    created_at TIMESTAMP NOT NULL\n",
    ");\n",
    "\n",
    "CREATE INDEX IF NOT EXISTS idx_railway_road_type_name ON Railway_Road (railway_road_type_name);\n",
    "\"\"\"\n",
    "\n",
    "cur.execute(create_railway_road_table)\n",
    "conn.commit()\n",
    "\n",
    "\n",
    "cols_to_load = ['RR_TYPE1']\n",
    "df = pd.read_csv('new-york-state-railroad-dmql.csv', usecols=cols_to_load)\n",
    "current_time = datetime.now()\n",
    "\n",
    "for index, row in df.iterrows(): \n",
    "   cur.execute(\n",
    "        \"INSERT INTO Railway_Road (railway_road_type_name, created_at) VALUES (%s, %s)\",\n",
    "        (row['RR_TYPE1'], current_time)\n",
    "    )\n",
    "\n",
    "\n",
    "conn.commit()"
   ]
  },
  {
   "cell_type": "markdown",
   "id": "dd9d95d7-c502-43a0-833c-d45cc7a97f93",
   "metadata": {},
   "source": [
    "# Operator Table"
   ]
  },
  {
   "cell_type": "code",
   "execution_count": null,
   "id": "32bca476-24fe-436a-a413-2376d126ad58",
   "metadata": {},
   "outputs": [],
   "source": [
    "create_operator_table = \"\"\"\n",
    "CREATE TABLE IF NOT EXISTS Operator (\n",
    "    operator_id SERIAL PRIMARY KEY,\n",
    "    operator_name VARCHAR(100),\n",
    "    parent_company VARCHAR(100),\n",
    "    created_at TIMESTAMP NOT NULL\n",
    ");\n",
    "\n",
    "\n",
    "CREATE INDEX IF NOT EXISTS idx_operator_name ON Operator (operator_name);\n",
    "\"\"\"\n",
    "\n",
    "cur.execute(create_operator_table)\n",
    "conn.commit()\n",
    "cols_to_load = ['OPERATOR','PARENT_CO']\n",
    "df = pd.read_csv('new-york-state-railroad-dmql.csv', usecols=cols_to_load)\n",
    "created_at = datetime.now()\n",
    "df.columns = ['operator_name','parent_company']\n",
    "df.head()\n",
    "# Insert data into the \"Train_Class\" table\n",
    "for index, row in df.iterrows():\n",
    "    #print(row['operator_name'],row['parent_company'], created_at)\n",
    "    cur.execute(\n",
    "         \"INSERT INTO Operator (operator_name, parent_company, created_at) VALUES (%s, %s, %s)\",\n",
    "         (row['operator_name'],row['parent_company'], created_at)\n",
    "     )\n",
    "    \n",
    "\n",
    "conn.commit()"
   ]
  },
  {
   "cell_type": "markdown",
   "id": "87c5f49a-8198-4b6b-860a-62ab31d7cef4",
   "metadata": {},
   "source": [
    "# Train Class Table"
   ]
  },
  {
   "cell_type": "code",
   "execution_count": null,
   "id": "205132ea-4ca2-4708-8727-2f71e10ffba9",
   "metadata": {},
   "outputs": [],
   "source": [
    "create_train_class_table = \"\"\"\n",
    "CREATE TABLE IF NOT EXISTS Train_Class (\n",
    "    train_class_id SERIAL PRIMARY KEY,\n",
    "    train_id INTEGER REFERENCES Train(train_id),\n",
    "    train_class_name VARCHAR(20),\n",
    "    created_at TIMESTAMP NOT NULL\n",
    ");\n",
    "\n",
    "CREATE INDEX IF NOT EXISTS idx_train_class_name ON Train_Class (train_class_name);\n",
    "\"\"\"\n",
    "\n",
    "cur.execute(create_train_class_table)\n",
    "conn.commit()\n",
    "\n",
    "\n",
    "cols_to_load = ['CLASS', 'Train_NAME']\n",
    "df = pd.read_csv('new-york-state-railroad-dmql.csv', usecols=cols_to_load)\n",
    "df.columns = ['train_class_name', 'train_name'] \n",
    "created_at = datetime.now()\n",
    "\n",
    "for index, row in df.iterrows():\n",
    "    train_name = row['train_name']\n",
    "    cur.execute(\"SELECT train_id FROM Train WHERE train_name = %s\", (train_name,))\n",
    "    train_id = cur.fetchone()\n",
    "    if train_id:\n",
    "        cur.execute(\n",
    "            \"INSERT INTO Train_Class ( train_id, train_class_name, created_at) VALUES ( %s, %s, %s)\",\n",
    "            (train_id[0], row['train_class_name'], created_at)\n",
    "        )\n",
    "    else:\n",
    "        print(f\"Train '{train_name}' not found in Train table.\")\n",
    "\n",
    "\n",
    "conn.commit()"
   ]
  },
  {
   "cell_type": "markdown",
   "id": "d7825563-7c65-4f74-a184-2e956ded4ac7",
   "metadata": {},
   "source": [
    "# Track Table"
   ]
  },
  {
   "cell_type": "code",
   "execution_count": null,
   "id": "e789bbb4-1245-4e61-9ae4-790b757dfcea",
   "metadata": {},
   "outputs": [],
   "source": [
    "create_track_query = \"\"\"\n",
    "CREATE TABLE IF NOT EXISTS Track (\n",
    "    track_id SERIAL PRIMARY KEY,\n",
    "    track_name VARCHAR(100) ,\n",
    "    track_right_class VARCHAR(100),\n",
    "    electrification VARCHAR(100),\n",
    "    haul_right VARCHAR(100),\n",
    "    created_at TIMESTAMP NOT NULL\n",
    ");\n",
    "CREATE INDEX IF NOT EXISTS idx_track_name ON Track (track_name);\n",
    "CREATE INDEX IF NOT EXISTS idx_track_right_class ON Track (track_right_class);\n",
    "CREATE INDEX IF NOT EXISTS idx_electrification ON Track (electrification);\n",
    "CREATE INDEX IF NOT EXISTS idx_haul_right ON Track (haul_right);\n",
    "\"\"\"\n",
    "\n",
    "cur.execute(create_track_query)\n",
    "conn.commit()\n",
    "\n",
    "\n",
    "cols_to_load = ['Trk_Name','TRACK_RIGH','ELECTRIFIC','HAUL_RIGHT']\n",
    "df = pd.read_csv('new-york-state-railroad-dmql.csv', usecols=cols_to_load)\n",
    "df.columns = ['track_name','track_right_class','electrification','haul_right']\n",
    "\n",
    "current_time = datetime.now()\n",
    "for index, row in df.iterrows():\n",
    "    cur.execute(\n",
    "        \"INSERT INTO Track(track_name,track_right_class,electrification,haul_right, created_at) VALUES (%s, %s, %s, %s, %s)\",\n",
    "        (row['track_name'], row['track_right_class'], row['electrification'], row['haul_right'], current_time)\n",
    "    )\n",
    "\n",
    "conn.commit()\n"
   ]
  },
  {
   "cell_type": "markdown",
   "id": "64d862d5-222d-4cc6-8b7e-8ae1a48de215",
   "metadata": {},
   "source": [
    "# Station Table"
   ]
  },
  {
   "cell_type": "code",
   "execution_count": null,
   "id": "01c8b236-242c-4dcc-9326-2e302e7ee960",
   "metadata": {},
   "outputs": [],
   "source": [
    "create_station_query = \"\"\"\n",
    "CREATE TABLE IF NOT EXISTS Station (\n",
    "    station_id SERIAL PRIMARY KEY,\n",
    "    station_to VARCHAR(100) ,\n",
    "    station_from VARCHAR(100),\n",
    "    geom_acc VARCHAR(100) ,\n",
    "    giscode VARCHAR(100),\n",
    "    state VARCHAR(100),\n",
    "    shape_length VARCHAR(100),\n",
    "    created_at TIMESTAMP NOT NULL\n",
    ");\n",
    "\n",
    "CREATE INDEX IF NOT EXISTS idx_station_to ON Station (station_to);\n",
    "CREATE INDEX IF NOT EXISTS idx_station_from ON Station (station_from);\n",
    "CREATE INDEX IF NOT EXISTS idx_giscode ON Station (giscode);\n",
    "CREATE INDEX IF NOT EXISTS idx_state ON Station (state);\n",
    "\"\"\"\n",
    "\n",
    "cur.execute(create_station_query)\n",
    "conn.commit()\n",
    "\n",
    "\n",
    "cols_to_load = ['Station_To','Station_F','GEOM_ACC','GISCODE','STATE', 'Shape_Length']\n",
    "df = pd.read_csv('new-york-state-railroad-dmql.csv', usecols=cols_to_load)\n",
    "df.columns = ['station_to','station_f','geom_acc','giscode','state','shape_length']\n",
    "\n",
    "current_time = datetime.now()\n",
    "\n",
    "for index, row in df.iterrows():\n",
    "    cur.execute(\n",
    "        \"INSERT INTO Station (station_to,station_from,geom_acc,giscode,state, shape_length, created_at) VALUES (%s, %s, %s, %s, %s, %s, %s)\",\n",
    "        (row['station_to'],row['station_f'],row['geom_acc'],row['giscode'],row['state'],row['shape_length'], current_time)\n",
    "    )\n",
    "\n",
    "conn.commit()"
   ]
  },
  {
   "cell_type": "markdown",
   "id": "722122a0-8a66-4c25-92f4-e6e27af2dce9",
   "metadata": {},
   "source": [
    "# Route Table"
   ]
  },
  {
   "cell_type": "code",
   "execution_count": null,
   "id": "9f837446-4f6e-4888-be95-1a10f4ffb722",
   "metadata": {},
   "outputs": [],
   "source": [
    "create_route_query = \"\"\"\n",
    "CREATE TABLE IF NOT EXISTS Route (\n",
    "    route_id SERIAL PRIMARY KEY,\n",
    "    route_name VARCHAR(20),\n",
    "    created_at TIMESTAMP NOT NULL\n",
    ");\n",
    "\n",
    "-- Add index to improve query performance\n",
    "CREATE INDEX IF NOT EXISTS idx_route_name ON Route (route_name);\n",
    "\"\"\"\n",
    "\n",
    "cur.execute(create_route_query)\n",
    "conn.commit()\n",
    "\n",
    "\n",
    "cols_to_load = ['Route']\n",
    "df = pd.read_csv('new-york-state-railroad-dmql.csv', usecols=cols_to_load)\n",
    "df.columns = ['route']\n",
    "\n",
    "current_time = datetime.now()\n",
    "\n",
    "for index, row in df.iterrows():\n",
    "    cur.execute(\n",
    "        \"INSERT INTO Route (route_name, created_at) VALUES (%s, %s)\",\n",
    "        (row['route'], current_time)\n",
    "    )\n",
    "\n",
    "conn.commit()"
   ]
  },
  {
   "cell_type": "markdown",
   "id": "e6f2fb8c-bca4-4d8a-ae8c-daf12407a204",
   "metadata": {},
   "source": [
    "# Line Table"
   ]
  },
  {
   "cell_type": "code",
   "execution_count": null,
   "id": "b8683482-69fb-48e0-bb81-1304c456d0d9",
   "metadata": {},
   "outputs": [],
   "source": [
    "create_line_query = \"\"\"\n",
    "CREATE TABLE IF NOT EXISTS Line (\n",
    "    line_id SERIAL PRIMARY KEY,\n",
    "    line_name VARCHAR(100) NOT NULL,\n",
    "    created_at TIMESTAMP NOT NULL\n",
    ");\n",
    "CREATE INDEX IF NOT EXISTS idx_line_name ON Line (line_name);\n",
    "\"\"\"\n",
    "\n",
    "cur.execute(create_line_query)\n",
    "conn.commit()\n",
    "\n",
    "\n",
    "cols_to_load = ['LINE_NAME']\n",
    "df = pd.read_csv('new-york-state-railroad-dmql.csv', usecols=cols_to_load)\n",
    "df.columns = ['line_name']\n",
    "\n",
    "current_time = datetime.now()\n",
    "\n",
    "for index, row in df.iterrows():\n",
    "    cur.execute(\n",
    "        \"INSERT INTO Line(line_name, created_at) VALUES (%s, %s)\",\n",
    "        (row['line_name'], current_time)\n",
    "    )\n",
    "\n",
    "conn.commit()\n"
   ]
  },
  {
   "cell_type": "markdown",
   "id": "0aeba011-f7e0-46cd-acbc-aa9539db24fa",
   "metadata": {},
   "source": [
    "# Trackline Table"
   ]
  },
  {
   "cell_type": "code",
   "execution_count": null,
   "id": "3359cd95-8328-488d-9ade-ef69000f954d",
   "metadata": {},
   "outputs": [],
   "source": [
    "create_trackline_query = \"\"\"\n",
    "CREATE TABLE IF NOT EXISTS TrackLine (\n",
    "    tl_id SERIAL PRIMARY KEY,\n",
    "    track_id INTEGER REFERENCES Track(track_id),\n",
    "    line_id INTEGER REFERENCES LINE(line_id),\n",
    "    created_at TIMESTAMP NOT NULL\n",
    ");\n",
    "\n",
    "CREATE INDEX IF NOT EXISTS idx_trackline_track_id ON TrackLine (track_id);\n",
    "CREATE INDEX IF NOT EXISTS idx_trackline_line_id ON TrackLine (line_id);\n",
    "\"\"\"\n",
    "\n",
    "cur.execute(create_trackline_query)\n",
    "conn.commit()\n",
    "\n",
    "rows = cur.fetchall()\n",
    "created_at = datetime.now()\n",
    "\n",
    "for row in rows:\n",
    "    track_id, line_id = row\n",
    "    cur.execute(\n",
    "        \"INSERT INTO TrackLine (track_id, line_id, created_at) VALUES ( %s, %s, %s)\",\n",
    "        ( track_id, line_id, created_at)\n",
    "    )\n",
    "\n",
    "conn.commit()\n",
    "\n",
    "cur.close()\n",
    "conn.close()"
   ]
  },
  {
   "cell_type": "markdown",
   "id": "817b6c71-43a0-4fc3-8ed8-fe30ea984718",
   "metadata": {},
   "source": [
    "# Train Seat Table"
   ]
  },
  {
   "cell_type": "code",
   "execution_count": null,
   "id": "f0e8349d-0d1f-4d6d-8403-061bc48b8de6",
   "metadata": {},
   "outputs": [],
   "source": [
    "cur = conn.cursor()\n",
    "\n",
    "\n",
    "create_train_seat_table = \"\"\"\n",
    "CREATE TABLE IF NOT EXISTS Train_Seat (\n",
    "    train_seat_id SERIAL PRIMARY KEY,\n",
    "    train_id INTEGER REFERENCES Train(train_id),\n",
    "    train_seat_name VARCHAR(200) not null,\n",
    "    created_at TIMESTAMP NOT NULL\n",
    ");\n",
    "\"\"\"\n",
    "\n",
    "cur.execute(create_train_seat_table)\n",
    "conn.commit()\n",
    "\n",
    "\n",
    "\n",
    "\n",
    "\n",
    "cols_to_load = ['SEAT_NAME','Train_NAME']\n",
    "df = pd.read_csv('new-york-state-railroad_dmql.csv', usecols=cols_to_load)\n",
    "df.columns = ['train_seat_name', 'train_name'] \n",
    "created_at = datetime.now()\n",
    "\n",
    "for index, row in df.iterrows():\n",
    "    train_name = row['train_name']\n",
    "    cur.execute(\"SELECT train_id FROM Train WHERE train_name = %s\", (train_name,))\n",
    "    train_id = cur.fetchone()\n",
    "    if train_id:\n",
    "        cur.execute(\n",
    "            \"INSERT INTO Train_Seat ( train_id, train_seat_name, created_at) VALUES ( %s, %s, %s)\",\n",
    "            (train_id[0], row['train_seat_name'], created_at)\n",
    "        )\n",
    "    else:\n",
    "        print(f\"Train '{train_name}' not found in Train table.\")\n",
    "\n",
    "\n",
    "conn.commit()\n",
    "cur.close()\n",
    "conn.close()\n",
    "\n",
    "rows = cur.fetchall()\n",
    "created_at = datetime.now()\n",
    "\n",
    "for row in rows:\n",
    "    train_id,train_class_id= row\n",
    "    cur.execute(\n",
    "        \"INSERT INTO TrainSeat (train_id, train_class_id, created_at) VALUES ( %s, %s, %s)\",\n",
    "        ( train_id,train_class_id)\n",
    "    )\n",
    "\n",
    "conn.commit()\n",
    "\n",
    "cur.close()\n",
    "conn.close()\n",
    "\n"
   ]
  },
  {
   "cell_type": "code",
   "execution_count": null,
   "id": "569c2d51-0ada-443e-91b1-d1caa18c29ff",
   "metadata": {},
   "outputs": [],
   "source": []
  },
  {
   "cell_type": "code",
   "execution_count": null,
   "id": "93a6a3a2-d354-4ce0-a7da-8e2e8aab69fd",
   "metadata": {},
   "outputs": [],
   "source": []
  },
  {
   "cell_type": "code",
   "execution_count": null,
   "id": "e3cd92c5-ceb0-467b-8828-dd4cd6678c07",
   "metadata": {},
   "outputs": [],
   "source": []
  },
  {
   "cell_type": "code",
   "execution_count": null,
   "id": "6dbb5fcf-6164-4f48-b7dc-2d761b92ee66",
   "metadata": {},
   "outputs": [],
   "source": []
  },
  {
   "cell_type": "code",
   "execution_count": null,
   "id": "bb2b86c6-f0b3-4509-9a6a-02c22ec4fd95",
   "metadata": {},
   "outputs": [],
   "source": []
  },
  {
   "cell_type": "code",
   "execution_count": null,
   "id": "1c1c2502-5608-4548-87d4-95d3bd758914",
   "metadata": {},
   "outputs": [],
   "source": []
  },
  {
   "cell_type": "code",
   "execution_count": null,
   "id": "fbb2304c-7c67-4bd7-8d3d-a63b9376322e",
   "metadata": {},
   "outputs": [],
   "source": []
  },
  {
   "cell_type": "code",
   "execution_count": null,
   "id": "ec27a343-fdab-4f77-aba7-15cdcd4c1d3b",
   "metadata": {},
   "outputs": [],
   "source": []
  }
 ],
 "metadata": {
  "kernelspec": {
   "display_name": "Python 3 (ipykernel)",
   "language": "python",
   "name": "python3"
  },
  "language_info": {
   "codemirror_mode": {
    "name": "ipython",
    "version": 3
   },
   "file_extension": ".py",
   "mimetype": "text/x-python",
   "name": "python",
   "nbconvert_exporter": "python",
   "pygments_lexer": "ipython3",
   "version": "3.11.5"
  }
 },
 "nbformat": 4,
 "nbformat_minor": 5
}
